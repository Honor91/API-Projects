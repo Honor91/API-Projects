{
 "cells": [
  {
   "cell_type": "markdown",
   "id": "be01c8a2-8827-40b6-86f1-2c83047dddd1",
   "metadata": {},
   "source": [
    "# NASA API"
   ]
  },
  {
   "cell_type": "code",
   "execution_count": 8,
   "id": "8de31c09-8f71-45fa-abc6-d617b6cc841b",
   "metadata": {},
   "outputs": [],
   "source": [
    "import requests\n",
    "import pandas as pd"
   ]
  },
  {
   "cell_type": "markdown",
   "id": "4bc2d10a-0035-406c-83b6-315df915bc92",
   "metadata": {},
   "source": [
    "## Query by Sol"
   ]
  },
  {
   "cell_type": "markdown",
   "id": "6e7e098a-0b37-42c4-98c5-80fb6a7d31d3",
   "metadata": {},
   "source": [
    "| Key | type | Description |\n",
    "|---|---|---|\n",
    "| sol|int | Martian sol of the Rover's mission |\n",
    "| total_photos |int| Number of photos taken by that Rover on that sol |\n",
    "| cameras | str | Cameras for which there are photos by that Rover on that sol |\n"
   ]
  },
  {
   "cell_type": "code",
   "execution_count": null,
   "id": "0baff1ae-d69c-42e9-99f8-00ef838541bf",
   "metadata": {},
   "outputs": [],
   "source": []
  },
  {
   "cell_type": "code",
   "execution_count": 22,
   "id": "82007c92-9940-4e87-8ebc-4c2e854b8d2c",
   "metadata": {},
   "outputs": [],
   "source": [
    "\n",
    "sol = 0\n",
    "total_photos = 20\n",
    "url = f\"https://api.nasa.gov/mars-photos/api/v1/rovers/curiosity/photos?sol={sol}&total_photos={20}&api_key={api_key}\"\n",
    "\n",
    "response = requests.get(url=url)"
   ]
  },
  {
   "cell_type": "code",
   "execution_count": 10,
   "id": "02f154cb-6716-4447-9aef-6ce8b7db69ef",
   "metadata": {},
   "outputs": [
    {
     "data": {
      "text/plain": [
       "dict"
      ]
     },
     "execution_count": 10,
     "metadata": {},
     "output_type": "execute_result"
    }
   ],
   "source": [
    "# Lets see the type\n",
    "type(response.json())"
   ]
  },
  {
   "cell_type": "code",
   "execution_count": 11,
   "id": "d4028a17-31c8-4409-ad66-80e0601f6954",
   "metadata": {},
   "outputs": [
    {
     "data": {
      "text/plain": [
       "dict_keys(['photos'])"
      ]
     },
     "execution_count": 11,
     "metadata": {},
     "output_type": "execute_result"
    }
   ],
   "source": [
    "response.json().keys()"
   ]
  },
  {
   "cell_type": "code",
   "execution_count": 12,
   "id": "cfa46e8d-86fc-4b7d-8c62-3352ac6c4e20",
   "metadata": {},
   "outputs": [
    {
     "data": {
      "text/plain": [
       "list"
      ]
     },
     "execution_count": 12,
     "metadata": {},
     "output_type": "execute_result"
    }
   ],
   "source": [
    "type(response.json()['photos'])"
   ]
  },
  {
   "cell_type": "code",
   "execution_count": 13,
   "id": "860f90b5-e9de-4a07-8dc1-322b67cfee67",
   "metadata": {},
   "outputs": [
    {
     "data": {
      "text/plain": [
       "{'id': 727,\n",
       " 'sol': 0,\n",
       " 'camera': {'id': 20,\n",
       "  'name': 'FHAZ',\n",
       "  'rover_id': 5,\n",
       "  'full_name': 'Front Hazard Avoidance Camera'},\n",
       " 'img_src': 'http://mars.jpl.nasa.gov/msl-raw-images/proj/msl/redops/ods/surface/sol/00000/opgs/edr/fcam/FRA_397502305EDR_D0010000AUT_04096M_.JPG',\n",
       " 'earth_date': '2012-08-06',\n",
       " 'rover': {'id': 5,\n",
       "  'name': 'Curiosity',\n",
       "  'landing_date': '2012-08-06',\n",
       "  'launch_date': '2011-11-26',\n",
       "  'status': 'active',\n",
       "  'max_sol': 4102,\n",
       "  'max_date': '2024-02-19',\n",
       "  'total_photos': 695670,\n",
       "  'cameras': [{'name': 'FHAZ', 'full_name': 'Front Hazard Avoidance Camera'},\n",
       "   {'name': 'NAVCAM', 'full_name': 'Navigation Camera'},\n",
       "   {'name': 'MAST', 'full_name': 'Mast Camera'},\n",
       "   {'name': 'CHEMCAM', 'full_name': 'Chemistry and Camera Complex'},\n",
       "   {'name': 'MAHLI', 'full_name': 'Mars Hand Lens Imager'},\n",
       "   {'name': 'MARDI', 'full_name': 'Mars Descent Imager'},\n",
       "   {'name': 'RHAZ', 'full_name': 'Rear Hazard Avoidance Camera'}]}}"
      ]
     },
     "execution_count": 13,
     "metadata": {},
     "output_type": "execute_result"
    }
   ],
   "source": [
    "response.json()['photos'][0]"
   ]
  },
  {
   "cell_type": "code",
   "execution_count": 14,
   "id": "da1d4e2b-c908-4c2b-9e41-3c3e9e82bf62",
   "metadata": {},
   "outputs": [
    {
     "data": {
      "text/html": [
       "<div>\n",
       "<style scoped>\n",
       "    .dataframe tbody tr th:only-of-type {\n",
       "        vertical-align: middle;\n",
       "    }\n",
       "\n",
       "    .dataframe tbody tr th {\n",
       "        vertical-align: top;\n",
       "    }\n",
       "\n",
       "    .dataframe thead th {\n",
       "        text-align: right;\n",
       "    }\n",
       "</style>\n",
       "<table border=\"1\" class=\"dataframe\">\n",
       "  <thead>\n",
       "    <tr style=\"text-align: right;\">\n",
       "      <th></th>\n",
       "      <th>id</th>\n",
       "      <th>sol</th>\n",
       "      <th>max_sol</th>\n",
       "      <th>earth_date</th>\n",
       "      <th>rover_name</th>\n",
       "      <th>rover_id</th>\n",
       "      <th>camera_name</th>\n",
       "      <th>camera_full_name</th>\n",
       "      <th>img_src</th>\n",
       "    </tr>\n",
       "  </thead>\n",
       "  <tbody>\n",
       "    <tr>\n",
       "      <th>0</th>\n",
       "      <td>727</td>\n",
       "      <td>0</td>\n",
       "      <td>0</td>\n",
       "      <td>2012-08-06</td>\n",
       "      <td>Curiosity</td>\n",
       "      <td>5</td>\n",
       "      <td>FHAZ</td>\n",
       "      <td>Front Hazard Avoidance Camera</td>\n",
       "      <td>http://mars.jpl.nasa.gov/msl-raw-images/proj/m...</td>\n",
       "    </tr>\n",
       "    <tr>\n",
       "      <th>1</th>\n",
       "      <td>9720</td>\n",
       "      <td>0</td>\n",
       "      <td>0</td>\n",
       "      <td>2012-08-06</td>\n",
       "      <td>Curiosity</td>\n",
       "      <td>5</td>\n",
       "      <td>FHAZ</td>\n",
       "      <td>Front Hazard Avoidance Camera</td>\n",
       "      <td>http://mars.jpl.nasa.gov/msl-raw-images/proj/m...</td>\n",
       "    </tr>\n",
       "    <tr>\n",
       "      <th>2</th>\n",
       "      <td>9721</td>\n",
       "      <td>0</td>\n",
       "      <td>0</td>\n",
       "      <td>2012-08-06</td>\n",
       "      <td>Curiosity</td>\n",
       "      <td>5</td>\n",
       "      <td>FHAZ</td>\n",
       "      <td>Front Hazard Avoidance Camera</td>\n",
       "      <td>http://mars.jpl.nasa.gov/msl-raw-images/proj/m...</td>\n",
       "    </tr>\n",
       "    <tr>\n",
       "      <th>3</th>\n",
       "      <td>9722</td>\n",
       "      <td>0</td>\n",
       "      <td>0</td>\n",
       "      <td>2012-08-06</td>\n",
       "      <td>Curiosity</td>\n",
       "      <td>5</td>\n",
       "      <td>FHAZ</td>\n",
       "      <td>Front Hazard Avoidance Camera</td>\n",
       "      <td>http://mars.jpl.nasa.gov/msl-raw-images/proj/m...</td>\n",
       "    </tr>\n",
       "    <tr>\n",
       "      <th>4</th>\n",
       "      <td>9723</td>\n",
       "      <td>0</td>\n",
       "      <td>0</td>\n",
       "      <td>2012-08-06</td>\n",
       "      <td>Curiosity</td>\n",
       "      <td>5</td>\n",
       "      <td>FHAZ</td>\n",
       "      <td>Front Hazard Avoidance Camera</td>\n",
       "      <td>http://mars.jpl.nasa.gov/msl-raw-images/proj/m...</td>\n",
       "    </tr>\n",
       "    <tr>\n",
       "      <th>...</th>\n",
       "      <td>...</td>\n",
       "      <td>...</td>\n",
       "      <td>...</td>\n",
       "      <td>...</td>\n",
       "      <td>...</td>\n",
       "      <td>...</td>\n",
       "      <td>...</td>\n",
       "      <td>...</td>\n",
       "      <td>...</td>\n",
       "    </tr>\n",
       "    <tr>\n",
       "      <th>3697</th>\n",
       "      <td>65875</td>\n",
       "      <td>0</td>\n",
       "      <td>0</td>\n",
       "      <td>2012-08-06</td>\n",
       "      <td>Curiosity</td>\n",
       "      <td>5</td>\n",
       "      <td>MARDI</td>\n",
       "      <td>Mars Descent Imager</td>\n",
       "      <td>http://mars.jpl.nasa.gov/msl-raw-images/msss/0...</td>\n",
       "    </tr>\n",
       "    <tr>\n",
       "      <th>3698</th>\n",
       "      <td>65876</td>\n",
       "      <td>0</td>\n",
       "      <td>0</td>\n",
       "      <td>2012-08-06</td>\n",
       "      <td>Curiosity</td>\n",
       "      <td>5</td>\n",
       "      <td>MARDI</td>\n",
       "      <td>Mars Descent Imager</td>\n",
       "      <td>http://mars.jpl.nasa.gov/msl-raw-images/msss/0...</td>\n",
       "    </tr>\n",
       "    <tr>\n",
       "      <th>3699</th>\n",
       "      <td>65877</td>\n",
       "      <td>0</td>\n",
       "      <td>0</td>\n",
       "      <td>2012-08-06</td>\n",
       "      <td>Curiosity</td>\n",
       "      <td>5</td>\n",
       "      <td>MARDI</td>\n",
       "      <td>Mars Descent Imager</td>\n",
       "      <td>http://mars.jpl.nasa.gov/msl-raw-images/msss/0...</td>\n",
       "    </tr>\n",
       "    <tr>\n",
       "      <th>3700</th>\n",
       "      <td>65878</td>\n",
       "      <td>0</td>\n",
       "      <td>0</td>\n",
       "      <td>2012-08-06</td>\n",
       "      <td>Curiosity</td>\n",
       "      <td>5</td>\n",
       "      <td>MARDI</td>\n",
       "      <td>Mars Descent Imager</td>\n",
       "      <td>http://mars.jpl.nasa.gov/msl-raw-images/msss/0...</td>\n",
       "    </tr>\n",
       "    <tr>\n",
       "      <th>3701</th>\n",
       "      <td>65879</td>\n",
       "      <td>0</td>\n",
       "      <td>0</td>\n",
       "      <td>2012-08-06</td>\n",
       "      <td>Curiosity</td>\n",
       "      <td>5</td>\n",
       "      <td>MARDI</td>\n",
       "      <td>Mars Descent Imager</td>\n",
       "      <td>http://mars.jpl.nasa.gov/msl-raw-images/msss/0...</td>\n",
       "    </tr>\n",
       "  </tbody>\n",
       "</table>\n",
       "<p>3702 rows × 9 columns</p>\n",
       "</div>"
      ],
      "text/plain": [
       "         id  sol  max_sol  earth_date rover_name  rover_id camera_name  \\\n",
       "0       727    0        0  2012-08-06  Curiosity         5        FHAZ   \n",
       "1      9720    0        0  2012-08-06  Curiosity         5        FHAZ   \n",
       "2      9721    0        0  2012-08-06  Curiosity         5        FHAZ   \n",
       "3      9722    0        0  2012-08-06  Curiosity         5        FHAZ   \n",
       "4      9723    0        0  2012-08-06  Curiosity         5        FHAZ   \n",
       "...     ...  ...      ...         ...        ...       ...         ...   \n",
       "3697  65875    0        0  2012-08-06  Curiosity         5       MARDI   \n",
       "3698  65876    0        0  2012-08-06  Curiosity         5       MARDI   \n",
       "3699  65877    0        0  2012-08-06  Curiosity         5       MARDI   \n",
       "3700  65878    0        0  2012-08-06  Curiosity         5       MARDI   \n",
       "3701  65879    0        0  2012-08-06  Curiosity         5       MARDI   \n",
       "\n",
       "                   camera_full_name  \\\n",
       "0     Front Hazard Avoidance Camera   \n",
       "1     Front Hazard Avoidance Camera   \n",
       "2     Front Hazard Avoidance Camera   \n",
       "3     Front Hazard Avoidance Camera   \n",
       "4     Front Hazard Avoidance Camera   \n",
       "...                             ...   \n",
       "3697            Mars Descent Imager   \n",
       "3698            Mars Descent Imager   \n",
       "3699            Mars Descent Imager   \n",
       "3700            Mars Descent Imager   \n",
       "3701            Mars Descent Imager   \n",
       "\n",
       "                                                img_src  \n",
       "0     http://mars.jpl.nasa.gov/msl-raw-images/proj/m...  \n",
       "1     http://mars.jpl.nasa.gov/msl-raw-images/proj/m...  \n",
       "2     http://mars.jpl.nasa.gov/msl-raw-images/proj/m...  \n",
       "3     http://mars.jpl.nasa.gov/msl-raw-images/proj/m...  \n",
       "4     http://mars.jpl.nasa.gov/msl-raw-images/proj/m...  \n",
       "...                                                 ...  \n",
       "3697  http://mars.jpl.nasa.gov/msl-raw-images/msss/0...  \n",
       "3698  http://mars.jpl.nasa.gov/msl-raw-images/msss/0...  \n",
       "3699  http://mars.jpl.nasa.gov/msl-raw-images/msss/0...  \n",
       "3700  http://mars.jpl.nasa.gov/msl-raw-images/msss/0...  \n",
       "3701  http://mars.jpl.nasa.gov/msl-raw-images/msss/0...  \n",
       "\n",
       "[3702 rows x 9 columns]"
      ]
     },
     "execution_count": 14,
     "metadata": {},
     "output_type": "execute_result"
    }
   ],
   "source": [
    "id = []\n",
    "sol=[]\n",
    "camera_name=[]\n",
    "camera_full_name = []\n",
    "rover_id =[]\n",
    "rover_name=[]\n",
    "earth_date=[]\n",
    "max_sol = []\n",
    "img_src = []\n",
    "\n",
    "for item in response.json()['photos']:\n",
    "  id.append(item['id'])\n",
    "  sol.append(item['sol'])\n",
    "  max_sol.append(item['sol'])\n",
    "  rover_id.append(item['rover']['id'])\n",
    "  rover_name.append(item['rover']['name'])\n",
    "  camera_name.append(item['camera']['name'])\n",
    "  camera_full_name.append(item['camera']['full_name'])\n",
    "  earth_date.append(item['earth_date'])\n",
    "  img_src.append(item['img_src'])\n",
    "\n",
    "df = pd.DataFrame({'id':id,\n",
    "                   'sol':sol,\n",
    "                   'max_sol':max_sol,\n",
    "                   'earth_date':earth_date,\n",
    "                   'rover_name':rover_name,\n",
    "                   'rover_id':rover_id,\n",
    "                   'camera_name':camera_name,\n",
    "                   'camera_full_name':camera_full_name,\n",
    "                   'img_src':img_src}\n",
    "                  )\n",
    "df"
   ]
  },
  {
   "cell_type": "markdown",
   "id": "ffe03815-b410-4e72-88ef-8d1e204f51ce",
   "metadata": {},
   "source": [
    "There is a surprise in index: 2090-2160"
   ]
  },
  {
   "cell_type": "code",
   "execution_count": 17,
   "id": "654e7f89-6853-40d7-9d08-ffda4c6b91d9",
   "metadata": {},
   "outputs": [
    {
     "data": {
      "text/plain": [
       "'http://mars.jpl.nasa.gov/msl-raw-images/msss/00000/mrdi/0000MD9999000069E1_DXXX.jpg'"
      ]
     },
     "execution_count": 17,
     "metadata": {},
     "output_type": "execute_result"
    }
   ],
   "source": [
    "df.loc[2090]['img_src']"
   ]
  },
  {
   "cell_type": "code",
   "execution_count": 18,
   "id": "7fb29ce8-b2a9-49a7-a442-9200ee0ff49e",
   "metadata": {},
   "outputs": [
    {
     "data": {
      "text/plain": [
       "'http://mars.jpl.nasa.gov/msl-raw-images/msss/00000/mrdi/0000MD9999000063C0_DXXX.jpg'"
      ]
     },
     "execution_count": 18,
     "metadata": {},
     "output_type": "execute_result"
    }
   ],
   "source": [
    "df.loc[2100]['img_src']"
   ]
  },
  {
   "cell_type": "code",
   "execution_count": 19,
   "id": "e266e252-71b5-49d5-bca8-64a4aea2d7cd",
   "metadata": {},
   "outputs": [
    {
     "data": {
      "text/plain": [
       "'http://mars.jpl.nasa.gov/msl-raw-images/msss/00000/mrdi/0000MD9999000061C0_DXXX.jpg'"
      ]
     },
     "execution_count": 19,
     "metadata": {},
     "output_type": "execute_result"
    }
   ],
   "source": [
    "df.loc[2110]['img_src']"
   ]
  },
  {
   "cell_type": "code",
   "execution_count": 20,
   "id": "2db78044-3ab1-42d9-8520-45860a82256e",
   "metadata": {},
   "outputs": [
    {
     "data": {
      "text/plain": [
       "'http://mars.jpl.nasa.gov/msl-raw-images/msss/00000/mrdi/0000MD9999000045C0_DXXX.jpg'"
      ]
     },
     "execution_count": 20,
     "metadata": {},
     "output_type": "execute_result"
    }
   ],
   "source": [
    "df.loc[2140]['img_src']"
   ]
  },
  {
   "cell_type": "code",
   "execution_count": null,
   "id": "658658bb-a884-43a0-ade5-f802e7cbeea6",
   "metadata": {},
   "outputs": [],
   "source": []
  }
 ],
 "metadata": {
  "kernelspec": {
   "display_name": "Python 3 (ipykernel)",
   "language": "python",
   "name": "python3"
  },
  "language_info": {
   "codemirror_mode": {
    "name": "ipython",
    "version": 3
   },
   "file_extension": ".py",
   "mimetype": "text/x-python",
   "name": "python",
   "nbconvert_exporter": "python",
   "pygments_lexer": "ipython3",
   "version": "3.10.6"
  }
 },
 "nbformat": 4,
 "nbformat_minor": 5
}
